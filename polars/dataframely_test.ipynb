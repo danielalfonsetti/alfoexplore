{
 "cells": [
  {
   "cell_type": "code",
   "execution_count": 3,
   "id": "68e284cf",
   "metadata": {},
   "outputs": [],
   "source": [
    "import polars as pl\n",
    "import dataframely as dy\n",
    "import polars as pl"
   ]
  },
  {
   "cell_type": "code",
   "execution_count": 4,
   "id": "fbd73332",
   "metadata": {},
   "outputs": [],
   "source": [
    "\n",
    "class HouseSchema(dy.Schema):\n",
    "    zip_code = dy.String(nullable=False, min_length=3)\n",
    "    num_bedrooms = dy.UInt8(nullable=False)\n",
    "    num_bathrooms = dy.UInt8(nullable=False)\n",
    "    price = dy.Float64(nullable=False)\n",
    "\n",
    "\n",
    "class BusinessSchema(dy.Schema):\n",
    "    business_id = dy.String(nullable=False)\n",
    "    name = dy.String(nullable=False)\n",
    "    address = dy.String(nullable=True)\n",
    "    zip_code = dy.String(nullable=False, min_length=3)\n",
    "    num_employees = dy.UInt16(nullable=True)\n",
    "    revenue = dy.Float64(nullable=True)"
   ]
  },
  {
   "cell_type": "code",
   "execution_count": null,
   "id": "18c316db",
   "metadata": {},
   "outputs": [
    {
     "ename": "RuleValidationError",
     "evalue": "2 rules failed validation:\n * Column 'num_bedrooms' failed validation for 1 rules:\n   - 'nullability' failed for 2 rows\n * Column 'zip_code' failed validation for 1 rules:\n   - 'min_length' failed for 1 rows",
     "output_type": "error",
     "traceback": [
      "\u001b[31m---------------------------------------------------------------------------\u001b[39m",
      "\u001b[31mRuleValidationError\u001b[39m                       Traceback (most recent call last)",
      "\u001b[36mCell\u001b[39m\u001b[36m \u001b[39m\u001b[32mIn[5]\u001b[39m\u001b[32m, line 9\u001b[39m\n\u001b[32m      1\u001b[39m df = pl.DataFrame({\n\u001b[32m      2\u001b[39m     \u001b[33m\"\u001b[39m\u001b[33mzip_code\u001b[39m\u001b[33m\"\u001b[39m: [\u001b[33m\"\u001b[39m\u001b[33m01234\u001b[39m\u001b[33m\"\u001b[39m, \u001b[33m\"\u001b[39m\u001b[33m01234\u001b[39m\u001b[33m\"\u001b[39m, \u001b[33m\"\u001b[39m\u001b[33m1\u001b[39m\u001b[33m\"\u001b[39m, \u001b[33m\"\u001b[39m\u001b[33m213\u001b[39m\u001b[33m\"\u001b[39m, \u001b[33m\"\u001b[39m\u001b[33m123\u001b[39m\u001b[33m\"\u001b[39m, \u001b[33m\"\u001b[39m\u001b[33m213\u001b[39m\u001b[33m\"\u001b[39m],\n\u001b[32m      3\u001b[39m     \u001b[33m\"\u001b[39m\u001b[33mnum_bedrooms\u001b[39m\u001b[33m\"\u001b[39m: [\u001b[32m2\u001b[39m, \u001b[32m2\u001b[39m, \u001b[32m1\u001b[39m, \u001b[38;5;28;01mNone\u001b[39;00m, \u001b[38;5;28;01mNone\u001b[39;00m, \u001b[32m2\u001b[39m],\n\u001b[32m      4\u001b[39m     \u001b[33m\"\u001b[39m\u001b[33mnum_bathrooms\u001b[39m\u001b[33m\"\u001b[39m: [\u001b[32m1\u001b[39m, \u001b[32m2\u001b[39m, \u001b[32m1\u001b[39m, \u001b[32m1\u001b[39m, \u001b[32m0\u001b[39m, \u001b[32m8\u001b[39m],\n\u001b[32m      5\u001b[39m     \u001b[33m\"\u001b[39m\u001b[33mprice\u001b[39m\u001b[33m\"\u001b[39m: [\u001b[32m100_000\u001b[39m, \u001b[32m110_000\u001b[39m, \u001b[32m50_000\u001b[39m, \u001b[32m80_000\u001b[39m, \u001b[32m60_000\u001b[39m, \u001b[32m160_000\u001b[39m]\n\u001b[32m      6\u001b[39m })\n\u001b[32m      8\u001b[39m \u001b[38;5;66;03m# runtime/dynamic type checking \u001b[39;00m\n\u001b[32m----> \u001b[39m\u001b[32m9\u001b[39m house_df: dy.DataFrame[HouseSchema] = \u001b[43mHouseSchema\u001b[49m\u001b[43m.\u001b[49m\u001b[43mvalidate\u001b[49m\u001b[43m(\u001b[49m\u001b[43mdf\u001b[49m\u001b[43m,\u001b[49m\u001b[43m \u001b[49m\u001b[43mcast\u001b[49m\u001b[43m=\u001b[49m\u001b[38;5;28;43;01mTrue\u001b[39;49;00m\u001b[43m)\u001b[49m\n\u001b[32m     10\u001b[39m business_df: dy.DataFrame[BusinessSchema] = BusinessSchema.validate(df, cast=\u001b[38;5;28;01mTrue\u001b[39;00m) \u001b[38;5;66;03m# will raise an error at runtime\u001b[39;00m\n\u001b[32m     13\u001b[39m \u001b[38;5;28;01mdef\u001b[39;00m\u001b[38;5;250m \u001b[39m\u001b[34mhouse_function\u001b[39m(df : dy.DataFrame[HouseSchema]):\n",
      "\u001b[36mFile \u001b[39m\u001b[32m~/micromamba/envs/venv_polars_dev/lib/python3.13/site-packages/dataframely/schema.py:372\u001b[39m, in \u001b[36mSchema.validate\u001b[39m\u001b[34m(cls, df, cast)\u001b[39m\n\u001b[32m    370\u001b[39m df_valid, failures = \u001b[38;5;28mcls\u001b[39m.filter(df, cast=cast)\n\u001b[32m    371\u001b[39m \u001b[38;5;28;01mif\u001b[39;00m \u001b[38;5;28mlen\u001b[39m(failures) > \u001b[32m0\u001b[39m:\n\u001b[32m--> \u001b[39m\u001b[32m372\u001b[39m     \u001b[38;5;28;01mraise\u001b[39;00m RuleValidationError(failures.counts())\n\u001b[32m    373\u001b[39m \u001b[38;5;28;01mreturn\u001b[39;00m df_valid\n",
      "\u001b[31mRuleValidationError\u001b[39m: 2 rules failed validation:\n * Column 'num_bedrooms' failed validation for 1 rules:\n   - 'nullability' failed for 2 rows\n * Column 'zip_code' failed validation for 1 rules:\n   - 'min_length' failed for 1 rows"
     ]
    }
   ],
   "source": [
    "\n",
    "df = pl.DataFrame({\n",
    "    \"zip_code\": [\"01234\", \"01234\", \"1\", \"213\", \"123\", \"213\"],\n",
    "    \"num_bedrooms\": [2, 2, 1, None, None, 2],\n",
    "    \"num_bathrooms\": [1, 2, 1, 1, 0, 8],\n",
    "    \"price\": [100_000, 110_000, 50_000, 80_000, 60_000, 160_000]\n",
    "})\n",
    "\n",
    "# runtime/dynamic type checking \n",
    "house_df: dy.DataFrame[HouseSchema] = HouseSchema.validate(df, cast=True)\n",
    "business_df: dy.DataFrame[BusinessSchema] = BusinessSchema.validate(df, cast=True) # will raise an error at runtime\n",
    "\n",
    "\n",
    "def house_function(df : dy.DataFrame[HouseSchema]):\n",
    "    pass\n",
    "def business_function(df : dy.DataFrame[BusinessSchema]):\n",
    "    pass\n",
    "\n",
    "house_function(house_df)\n",
    "business_function(house_df) # pylance static type checking correctly catches the error\n"
   ]
  },
  {
   "cell_type": "code",
   "execution_count": null,
   "id": "45610eb8",
   "metadata": {},
   "outputs": [],
   "source": []
  }
 ],
 "metadata": {
  "kernelspec": {
   "display_name": "Python 3",
   "language": "python",
   "name": "python3"
  },
  "language_info": {
   "codemirror_mode": {
    "name": "ipython",
    "version": 3
   },
   "file_extension": ".py",
   "mimetype": "text/x-python",
   "name": "python",
   "nbconvert_exporter": "python",
   "pygments_lexer": "ipython3",
   "version": "3.13.5"
  }
 },
 "nbformat": 4,
 "nbformat_minor": 5
}
